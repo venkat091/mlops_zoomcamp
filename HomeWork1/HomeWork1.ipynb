{
 "cells": [
  {
   "cell_type": "code",
   "execution_count": 1,
   "id": "b9a2a057",
   "metadata": {},
   "outputs": [],
   "source": [
    "import pandas as pd\n",
    "import seaborn as sns\n",
    "import matplotlib.pyplot as plt\n",
    "from sklearn.feature_extraction import DictVectorizer\n",
    "from sklearn.linear_model import LinearRegression\n",
    "from sklearn.linear_model import Lasso\n",
    "from sklearn.linear_model import Ridge\n",
    "from sklearn.metrics import mean_squared_error\n",
    "import pickle"
   ]
  },
  {
   "cell_type": "markdown",
   "id": "45daa3b6",
   "metadata": {},
   "source": [
    "### Q1. Downloading the data\n",
    "\n",
    "Read the data for January. How many records are there?"
   ]
  },
  {
   "cell_type": "code",
   "execution_count": 35,
   "id": "dd7daf23",
   "metadata": {},
   "outputs": [],
   "source": [
    "hire_df = pd.read_parquet(\"./data/fhv_tripdata_2021-01.parquet\")\n",
    "val_df = pd.read_parquet(\"./data/fhv_tripdata_2021-02.parquet\")"
   ]
  },
  {
   "cell_type": "code",
   "execution_count": 4,
   "id": "aa65d1bc",
   "metadata": {},
   "outputs": [
    {
     "name": "stdout",
     "output_type": "stream",
     "text": [
      "<class 'pandas.core.frame.DataFrame'>\n",
      "RangeIndex: 1154112 entries, 0 to 1154111\n",
      "Data columns (total 7 columns):\n",
      " #   Column                  Non-Null Count    Dtype         \n",
      "---  ------                  --------------    -----         \n",
      " 0   dispatching_base_num    1154112 non-null  object        \n",
      " 1   pickup_datetime         1154112 non-null  datetime64[ns]\n",
      " 2   dropOff_datetime        1154112 non-null  datetime64[ns]\n",
      " 3   PUlocationID            195845 non-null   float64       \n",
      " 4   DOlocationID            991892 non-null   float64       \n",
      " 5   SR_Flag                 0 non-null        object        \n",
      " 6   Affiliated_base_number  1153227 non-null  object        \n",
      "dtypes: datetime64[ns](2), float64(2), object(3)\n",
      "memory usage: 61.6+ MB\n"
     ]
    }
   ],
   "source": [
    "hire_df.info()"
   ]
  },
  {
   "cell_type": "markdown",
   "id": "a2519a75",
   "metadata": {},
   "source": [
    "solution: 1154112"
   ]
  },
  {
   "cell_type": "markdown",
   "id": "a45864b4",
   "metadata": {},
   "source": [
    "### Q2. Computing duration\n",
    "Now let's compute the duration variable. It should contain the duration of a ride in minutes.\n",
    "\n",
    "What's the average trip duration in January?"
   ]
  },
  {
   "cell_type": "code",
   "execution_count": 41,
   "id": "266d5621",
   "metadata": {},
   "outputs": [
    {
     "data": {
      "text/plain": [
       "19.1672240937939"
      ]
     },
     "execution_count": 41,
     "metadata": {},
     "output_type": "execute_result"
    }
   ],
   "source": [
    "hire_df['duration'] = hire_df.dropOff_datetime - hire_df.pickup_datetime\n",
    "td = hire_df.duration.iloc[0]\n",
    "hire_df['duration'] = hire_df.duration.apply(lambda td: td.total_seconds()/60)\n",
    "hire_df.duration.mean()"
   ]
  },
  {
   "cell_type": "code",
   "execution_count": 38,
   "id": "8e7561fc",
   "metadata": {},
   "outputs": [
    {
     "data": {
      "text/plain": [
       "20.70698622520125"
      ]
     },
     "execution_count": 38,
     "metadata": {},
     "output_type": "execute_result"
    }
   ],
   "source": [
    "val_df['duration'] = val_df.dropOff_datetime - val_df.pickup_datetime\n",
    "td_val = val_df.duration.iloc[0]\n",
    "val_df['duration'] = val_df.duration.apply(lambda td_val: td_val.total_seconds()/60)\n",
    "val_df.duration.mean()"
   ]
  },
  {
   "cell_type": "markdown",
   "id": "26410021",
   "metadata": {},
   "source": [
    "### Data preparation\n",
    "Check the distribution of the duration variable. There are some outliers.\n",
    "\n",
    "Let's remove them and keep only the records where the duration was between 1 and 60 minutes (inclusive).\n",
    "\n",
    "How many records did you drop?"
   ]
  },
  {
   "cell_type": "code",
   "execution_count": 43,
   "id": "b60ea697",
   "metadata": {},
   "outputs": [
    {
     "name": "stderr",
     "output_type": "stream",
     "text": [
      "/home/venkat/anaconda3/lib/python3.9/site-packages/seaborn/distributions.py:2619: FutureWarning: `distplot` is a deprecated function and will be removed in a future version. Please adapt your code to use either `displot` (a figure-level function with similar flexibility) or `histplot` (an axes-level function for histograms).\n",
      "  warnings.warn(msg, FutureWarning)\n"
     ]
    },
    {
     "data": {
      "text/plain": [
       "<AxesSubplot:xlabel='duration', ylabel='Density'>"
      ]
     },
     "execution_count": 43,
     "metadata": {},
     "output_type": "execute_result"
    },
    {
     "data": {
      "image/png": "[encoded data removed]",
      "text/plain": [
       "<Figure size 432x288 with 1 Axes>"
      ]
     },
     "metadata": {
      "needs_background": "light"
     },
     "output_type": "display_data"
    }
   ],
   "source": [
    "sns.distplot(hire_df.duration)"
   ]
  },
  {
   "cell_type": "code",
   "execution_count": 44,
   "id": "617dac05",
   "metadata": {},
   "outputs": [
    {
     "data": {
      "text/plain": [
       "1109826"
      ]
     },
     "execution_count": 44,
     "metadata": {},
     "output_type": "execute_result"
    }
   ],
   "source": [
    "hire_df_new = hire_df[(hire_df.duration >= 1) & (hire_df.duration <= 60)]\n",
    "val_df_new = val_df[(val_df.duration >= 1) & (val_df.duration <= 60)]\n",
    "hire_df_new.duration.count()"
   ]
  },
  {
   "cell_type": "markdown",
   "id": "68e42cf3",
   "metadata": {},
   "source": [
    "### Q3. Missing values\n",
    "The features we'll use for our model are the pickup and dropoff location IDs.\n",
    "\n",
    "But they have a lot of missing values there. Let's replace them with \"-1\".\n",
    "\n",
    "What's the fractions of missing values for the pickup location ID? I.e. fraction of \"-1\"s after you filled the NAs."
   ]
  },
  {
   "cell_type": "code",
   "execution_count": 8,
   "id": "525eb57e",
   "metadata": {},
   "outputs": [],
   "source": [
    "hire_df_new = hire_df_new.fillna(-1)"
   ]
  },
  {
   "cell_type": "code",
   "execution_count": 53,
   "id": "e1219795",
   "metadata": {},
   "outputs": [],
   "source": [
    "val_df_new = val_df_new.fillna(-1)"
   ]
  },
  {
   "cell_type": "code",
   "execution_count": 9,
   "id": "f4f9b550",
   "metadata": {},
   "outputs": [
    {
     "data": {
      "text/plain": [
       "83.52732770722618"
      ]
     },
     "execution_count": 9,
     "metadata": {},
     "output_type": "execute_result"
    }
   ],
   "source": [
    "percent = (hire_df_new.PUlocationID[hire_df_new.PUlocationID == -1].count()/hire_df_new.PUlocationID.count())*100\n",
    "percent"
   ]
  },
  {
   "cell_type": "code",
   "execution_count": 54,
   "id": "36308e1c",
   "metadata": {},
   "outputs": [
    {
     "data": {
      "text/plain": [
       "85.71354986754038"
      ]
     },
     "execution_count": 54,
     "metadata": {},
     "output_type": "execute_result"
    }
   ],
   "source": [
    "percent_val = (val_df_new.PUlocationID[val_df_new.PUlocationID == -1].count()/val_df_new.PUlocationID.count())*100\n",
    "percent_val"
   ]
  },
  {
   "cell_type": "markdown",
   "id": "c211f312",
   "metadata": {},
   "source": [
    "### Q4. One-hot encoding\n",
    "Let's apply one-hot encoding to the pickup and dropoff location IDs. We'll use only these two features for our model.\n",
    "\n",
    "Turn the dataframe into a list of dictionaries\n",
    "Fit a dictionary vectorizer\n",
    "Get a feature matrix from it\n",
    "What's the dimensionality of this matrix? (The number of columns)."
   ]
  },
  {
   "cell_type": "code",
   "execution_count": 10,
   "id": "921bcf09",
   "metadata": {},
   "outputs": [],
   "source": [
    "features = [\"PUlocationID\", \"DOlocationID\"]"
   ]
  },
  {
   "cell_type": "code",
   "execution_count": 12,
   "id": "9f675bbd",
   "metadata": {},
   "outputs": [
    {
     "data": {
      "text/plain": [
       "PUlocationID    object\n",
       "DOlocationID    object\n",
       "dtype: object"
      ]
     },
     "execution_count": 12,
     "metadata": {},
     "output_type": "execute_result"
    }
   ],
   "source": [
    "df_hire = hire_df_new[features].astype(str)\n",
    "df_hire.dtypes"
   ]
  },
  {
   "cell_type": "code",
   "execution_count": 55,
   "id": "d95e3d80",
   "metadata": {},
   "outputs": [
    {
     "data": {
      "text/plain": [
       "PUlocationID    object\n",
       "DOlocationID    object\n",
       "dtype: object"
      ]
     },
     "execution_count": 55,
     "metadata": {},
     "output_type": "execute_result"
    }
   ],
   "source": [
    "df_val = val_df_new[features].astype(str)\n",
    "df_val.dtypes"
   ]
  },
  {
   "cell_type": "code",
   "execution_count": 15,
   "id": "fbae62dc",
   "metadata": {},
   "outputs": [],
   "source": [
    "train_dict = df_hire[features].to_dict(orient = 'records')\n",
    "dv = DictVectorizer()\n",
    "x_train = dv.fit_transform(train_dict)"
   ]
  },
  {
   "cell_type": "code",
   "execution_count": 58,
   "id": "da965477",
   "metadata": {},
   "outputs": [],
   "source": [
    "val_dict = df_val[features].to_dict(orient = 'records')\n",
    "x_val = dv.transform(val_dict)"
   ]
  },
  {
   "cell_type": "code",
   "execution_count": 27,
   "id": "19c4133c",
   "metadata": {},
   "outputs": [
    {
     "data": {
      "text/plain": [
       "525"
      ]
     },
     "execution_count": 27,
     "metadata": {},
     "output_type": "execute_result"
    }
   ],
   "source": [
    "# The number of columns\n",
    "len(dv.feature_names_)"
   ]
  },
  {
   "cell_type": "markdown",
   "id": "fa776246",
   "metadata": {},
   "source": [
    "### Q5. Training a model\n",
    "Now let's use the feature matrix from the previous step to train a model.\n",
    "\n",
    " - Train a plain linear regression model with default parameters\n",
    "\n",
    " - Calculate the RMSE of the model on the training data\n",
    "\n",
    "What's the RMSE on train?"
   ]
  },
  {
   "cell_type": "code",
   "execution_count": 31,
   "id": "06e01f4c",
   "metadata": {},
   "outputs": [
    {
     "data": {
      "text/plain": [
       "numpy.ndarray"
      ]
     },
     "execution_count": 31,
     "metadata": {},
     "output_type": "execute_result"
    }
   ],
   "source": [
    "y_train = hire_df_new[\"duration\"].values"
   ]
  },
  {
   "cell_type": "code",
   "execution_count": 59,
   "id": "56cc7c75",
   "metadata": {},
   "outputs": [],
   "source": [
    "y_val = val_df_new[\"duration\"].values"
   ]
  },
  {
   "cell_type": "code",
   "execution_count": 32,
   "id": "1ad573da",
   "metadata": {},
   "outputs": [
    {
     "data": {
      "text/plain": [
       "LinearRegression()"
      ]
     },
     "execution_count": 32,
     "metadata": {},
     "output_type": "execute_result"
    }
   ],
   "source": [
    "linear = LinearRegression()\n",
    "linear.fit(x_train, y_train)"
   ]
  },
  {
   "cell_type": "code",
   "execution_count": 33,
   "id": "a1569a36",
   "metadata": {},
   "outputs": [
    {
     "data": {
      "text/plain": [
       "array([23.05208497, 23.05208497, 14.10570364, ..., 16.61395942,\n",
       "       11.13738395, 23.05208497])"
      ]
     },
     "execution_count": 33,
     "metadata": {},
     "output_type": "execute_result"
    }
   ],
   "source": [
    "y_pred = linear.predict(x_train)\n",
    "y_pred"
   ]
  },
  {
   "cell_type": "code",
   "execution_count": 34,
   "id": "e3078cc5",
   "metadata": {},
   "outputs": [
    {
     "data": {
      "text/plain": [
       "10.52851910721221"
      ]
     },
     "execution_count": 34,
     "metadata": {},
     "output_type": "execute_result"
    }
   ],
   "source": [
    "mean_squared_error(y_train, y_pred, squared=False)"
   ]
  },
  {
   "cell_type": "markdown",
   "id": "6de8793f",
   "metadata": {},
   "source": [
    "### Q6. Evaluating the model\n",
    "Now let's apply this model to the validation dataset (Feb 2021).\n",
    "\n",
    "What's the RMSE on validation?"
   ]
  },
  {
   "cell_type": "code",
   "execution_count": 60,
   "id": "dd44305c",
   "metadata": {},
   "outputs": [],
   "source": [
    "y_val_pred = linear.predict(x_val)"
   ]
  },
  {
   "cell_type": "code",
   "execution_count": 61,
   "id": "78dcd9cb",
   "metadata": {},
   "outputs": [
    {
     "data": {
      "text/plain": [
       "11.014283209277062"
      ]
     },
     "execution_count": 61,
     "metadata": {},
     "output_type": "execute_result"
    }
   ],
   "source": [
    "mean_squared_error(y_val, y_val_pred, squared=False)"
   ]
  },
  {
   "cell_type": "code",
   "execution_count": null,
   "id": "68b4abc6",
   "metadata": {},
   "outputs": [],
   "source": []
  }
 ],
 "metadata": {
  "kernelspec": {
   "display_name": "Python 3 (ipykernel)",
   "language": "python",
   "name": "python3"
  },
  "language_info": {
   "codemirror_mode": {
    "name": "ipython",
    "version": 3
   },
   "file_extension": ".py",
   "mimetype": "text/x-python",
   "name": "python",
   "nbconvert_exporter": "python",
   "pygments_lexer": "ipython3",
   "version": "3.9.12"
  }
 },
 "nbformat": 4,
 "nbformat_minor": 5
}
